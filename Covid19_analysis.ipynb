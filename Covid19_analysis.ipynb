{
  "nbformat": 4,
  "nbformat_minor": 0,
  "metadata": {
    "colab": {
      "name": "Covid19 analysis.ipynb",
      "provenance": [],
      "collapsed_sections": [],
      "authorship_tag": "ABX9TyOJ9+cMYsK7FMeuwZMqlM8U"
    },
    "kernelspec": {
      "name": "python3",
      "display_name": "Python 3"
    }
  },
  "cells": [
    {
      "cell_type": "code",
      "metadata": {
        "id": "aBzCRR_p2bX2",
        "colab_type": "code",
        "colab": {
          "base_uri": "https://localhost:8080/",
          "height": 71
        },
        "outputId": "3d644b6e-4793-40ef-8b52-617c0314df03"
      },
      "source": [
        "import pandas as pd\n",
        "import json\n",
        "import numpy as np\n",
        "import matplotlib.pyplot as plt\n",
        "import seaborn as sns\n",
        "from datetime import datetime"
      ],
      "execution_count": 1,
      "outputs": [
        {
          "output_type": "stream",
          "text": [
            "/usr/local/lib/python3.6/dist-packages/statsmodels/tools/_testing.py:19: FutureWarning: pandas.util.testing is deprecated. Use the functions in the public API at pandas.testing instead.\n",
            "  import pandas.util.testing as tm\n"
          ],
          "name": "stderr"
        }
      ]
    },
    {
      "cell_type": "code",
      "metadata": {
        "id": "i2J6gIps2sZ9",
        "colab_type": "code",
        "colab": {}
      },
      "source": [
        "df = pd.read_json(\"https://api.covid19india.org/raw_data.json\")"
      ],
      "execution_count": 0,
      "outputs": []
    },
    {
      "cell_type": "code",
      "metadata": {
        "id": "Eb1fJ7E_930I",
        "colab_type": "code",
        "colab": {}
      },
      "source": [
        "data = pd.json_normalize(df['raw_data'])"
      ],
      "execution_count": 0,
      "outputs": []
    },
    {
      "cell_type": "code",
      "metadata": {
        "id": "wx6Nw8drPkPx",
        "colab_type": "code",
        "colab": {}
      },
      "source": [
        "#data['dateannounced'] = data['dateannounced'].apply(lambda x: datetime.strptime(x, '%d/%m/%Y').date())\n",
        "data['statuschangedate'] = data[data['statuschangedate'] != \"\"]['statuschangedate'].apply(lambda x: datetime.strptime(x, '%d/%m/%Y').date())"
      ],
      "execution_count": 0,
      "outputs": []
    },
    {
      "cell_type": "code",
      "metadata": {
        "id": "S1GYC0lfUxkG",
        "colab_type": "code",
        "colab": {}
      },
      "source": [
        "data['dateannounced'] = data[data['dateannounced'] != \"\"]['dateannounced'].apply(lambda x: datetime.strptime(x, '%d/%m/%Y').date())"
      ],
      "execution_count": 0,
      "outputs": []
    },
    {
      "cell_type": "code",
      "metadata": {
        "id": "zc9vYxO4TATw",
        "colab_type": "code",
        "colab": {}
      },
      "source": [
        "data = data.dropna()"
      ],
      "execution_count": 0,
      "outputs": []
    },
    {
      "cell_type": "code",
      "metadata": {
        "id": "5IIUUoBdNG7w",
        "colab_type": "code",
        "colab": {
          "base_uri": "https://localhost:8080/",
          "height": 34
        },
        "outputId": "ce1b5b10-4115-42a7-ff2d-ee700b17077a"
      },
      "source": [
        "#first case in India\n",
        "print(\"First case in India detected on:  {}\".format(str(min(data['dateannounced']))))"
      ],
      "execution_count": 7,
      "outputs": [
        {
          "output_type": "stream",
          "text": [
            "First case in India detected on:  2020-01-30\n"
          ],
          "name": "stdout"
        }
      ]
    },
    {
      "cell_type": "code",
      "metadata": {
        "id": "h7nO1_bo78rR",
        "colab_type": "code",
        "colab": {
          "base_uri": "https://localhost:8080/",
          "height": 34
        },
        "outputId": "03b5afb7-0f66-4239-a179-e5359403c2c0"
      },
      "source": [
        "print(\"Total Cases till date: {}\".format(data.count()[0]))"
      ],
      "execution_count": 8,
      "outputs": [
        {
          "output_type": "stream",
          "text": [
            "Total Cases till date: 3714\n"
          ],
          "name": "stdout"
        }
      ]
    },
    {
      "cell_type": "code",
      "metadata": {
        "id": "l6DB2jKHQ1S1",
        "colab_type": "code",
        "colab": {
          "base_uri": "https://localhost:8080/",
          "height": 428
        },
        "outputId": "327c692c-7c4e-47f2-bbdb-6f5ebd748dba"
      },
      "source": [
        "plt.figure(figsize=(15, 7))\n",
        "plt.plot(data['dateannounced'])\n",
        "plt.show()"
      ],
      "execution_count": 9,
      "outputs": [
        {
          "output_type": "display_data",
          "data": {
            "image/png": "[encoded data removed]",
            "text/plain": [
              "<Figure size 1080x504 with 1 Axes>"
            ]
          },
          "metadata": {
            "tags": []
          }
        }
      ]
    },
    {
      "cell_type": "code",
      "metadata": {
        "id": "-TNxNecu3DDy",
        "colab_type": "code",
        "colab": {
          "base_uri": "https://localhost:8080/",
          "height": 255
        },
        "outputId": "fb094fa7-c5d3-4e53-8e05-6f6477bade18"
      },
      "source": [
        "# data=data[data[\"agebracket\"]!=\"\"]\n",
        "# data[\"agebracket\"] = data[\"agebracket\"].apply(lambda x: (int(str(x[0:2]))+int(str(x[3:5])))/2 if len(x) == 5 else x)\n",
        "data_based_on_age = data[data[\"agebracket\"].astype(str).str.isdigit()]\n",
        "data_based_on_age.info"
      ],
      "execution_count": 10,
      "outputs": [
        {
          "output_type": "execute_result",
          "data": {
            "text/plain": [
              "<bound method DataFrame.info of      agebracket  ... typeoftransmission\n",
              "0            20  ...           Imported\n",
              "3            45  ...           Imported\n",
              "4            24  ...           Imported\n",
              "5            69  ...           Imported\n",
              "6            55  ...           Imported\n",
              "...         ...  ...                ...\n",
              "3730         68  ...                   \n",
              "3731         62  ...                   \n",
              "3787         70  ...                   \n",
              "3788         29  ...                   \n",
              "3796         42  ...                   \n",
              "\n",
              "[902 rows x 20 columns]>"
            ]
          },
          "metadata": {
            "tags": []
          },
          "execution_count": 10
        }
      ]
    },
    {
      "cell_type": "code",
      "metadata": {
        "id": "ieEYMeH6_oLY",
        "colab_type": "code",
        "colab": {
          "base_uri": "https://localhost:8080/",
          "height": 119
        },
        "outputId": "c2865f24-4b85-48ef-c0b0-692819f7d568"
      },
      "source": [
        "data_based_on_age[\"agebracket\"] = data_based_on_age[\"agebracket\"].apply(pd.to_numeric)"
      ],
      "execution_count": 11,
      "outputs": [
        {
          "output_type": "stream",
          "text": [
            "/usr/local/lib/python3.6/dist-packages/ipykernel_launcher.py:1: SettingWithCopyWarning: \n",
            "A value is trying to be set on a copy of a slice from a DataFrame.\n",
            "Try using .loc[row_indexer,col_indexer] = value instead\n",
            "\n",
            "See the caveats in the documentation: https://pandas.pydata.org/pandas-docs/stable/user_guide/indexing.html#returning-a-view-versus-a-copy\n",
            "  \"\"\"Entry point for launching an IPython kernel.\n"
          ],
          "name": "stderr"
        }
      ]
    },
    {
      "cell_type": "code",
      "metadata": {
        "id": "xNt2p6W--6b_",
        "colab_type": "code",
        "colab": {
          "base_uri": "https://localhost:8080/",
          "height": 296
        },
        "outputId": "c47dd70f-d74f-43b0-d60e-74740f8fbbd1"
      },
      "source": [
        "plt.hist(data_based_on_age[\"agebracket\"], bins=20)\n",
        "plt.ylabel(\"No. of patients\")\n",
        "plt.xlabel(\"Age group\")"
      ],
      "execution_count": 12,
      "outputs": [
        {
          "output_type": "execute_result",
          "data": {
            "text/plain": [
              "Text(0.5, 0, 'Age group')"
            ]
          },
          "metadata": {
            "tags": []
          },
          "execution_count": 12
        },
        {
          "output_type": "display_data",
          "data": {
            "image/png": "[encoded data removed]",
            "text/plain": [
              "<Figure size 432x288 with 1 Axes>"
            ]
          },
          "metadata": {
            "tags": []
          }
        }
      ]
    },
    {
      "cell_type": "code",
      "metadata": {
        "id": "gpt3VcUoA6na",
        "colab_type": "code",
        "colab": {
          "base_uri": "https://localhost:8080/",
          "height": 297
        },
        "outputId": "7dbf79d6-fa52-4154-980c-fc7c50be0ccf"
      },
      "source": [
        "data_based_on_age.describe()"
      ],
      "execution_count": 13,
      "outputs": [
        {
          "output_type": "execute_result",
          "data": {
            "text/html": [
              "<div>\n",
              "<style scoped>\n",
              "    .dataframe tbody tr th:only-of-type {\n",
              "        vertical-align: middle;\n",
              "    }\n",
              "\n",
              "    .dataframe tbody tr th {\n",
              "        vertical-align: top;\n",
              "    }\n",
              "\n",
              "    .dataframe thead th {\n",
              "        text-align: right;\n",
              "    }\n",
              "</style>\n",
              "<table border=\"1\" class=\"dataframe\">\n",
              "  <thead>\n",
              "    <tr style=\"text-align: right;\">\n",
              "      <th></th>\n",
              "      <th>agebracket</th>\n",
              "    </tr>\n",
              "  </thead>\n",
              "  <tbody>\n",
              "    <tr>\n",
              "      <th>count</th>\n",
              "      <td>902.000000</td>\n",
              "    </tr>\n",
              "    <tr>\n",
              "      <th>mean</th>\n",
              "      <td>40.811530</td>\n",
              "    </tr>\n",
              "    <tr>\n",
              "      <th>std</th>\n",
              "      <td>16.701331</td>\n",
              "    </tr>\n",
              "    <tr>\n",
              "      <th>min</th>\n",
              "      <td>1.000000</td>\n",
              "    </tr>\n",
              "    <tr>\n",
              "      <th>25%</th>\n",
              "      <td>27.000000</td>\n",
              "    </tr>\n",
              "    <tr>\n",
              "      <th>50%</th>\n",
              "      <td>39.000000</td>\n",
              "    </tr>\n",
              "    <tr>\n",
              "      <th>75%</th>\n",
              "      <td>53.000000</td>\n",
              "    </tr>\n",
              "    <tr>\n",
              "      <th>max</th>\n",
              "      <td>96.000000</td>\n",
              "    </tr>\n",
              "  </tbody>\n",
              "</table>\n",
              "</div>"
            ],
            "text/plain": [
              "       agebracket\n",
              "count  902.000000\n",
              "mean    40.811530\n",
              "std     16.701331\n",
              "min      1.000000\n",
              "25%     27.000000\n",
              "50%     39.000000\n",
              "75%     53.000000\n",
              "max     96.000000"
            ]
          },
          "metadata": {
            "tags": []
          },
          "execution_count": 13
        }
      ]
    },
    {
      "cell_type": "code",
      "metadata": {
        "id": "R8eY1jHUHpag",
        "colab_type": "code",
        "colab": {
          "base_uri": "https://localhost:8080/",
          "height": 337
        },
        "outputId": "3e8f4b8c-4d8c-452a-db0e-3c0a505edaa8"
      },
      "source": [
        "data['detectedstate'].value_counts().plot(kind='barh', figsize=(15,5))"
      ],
      "execution_count": 14,
      "outputs": [
        {
          "output_type": "execute_result",
          "data": {
            "text/plain": [
              "<matplotlib.axes._subplots.AxesSubplot at 0x7f1a007c93c8>"
            ]
          },
          "metadata": {
            "tags": []
          },
          "execution_count": 14
        },
        {
          "output_type": "display_data",
          "data": {
            "image/png": "[encoded data removed]",
            "text/plain": [
              "<Figure size 1080x360 with 1 Axes>"
            ]
          },
          "metadata": {
            "tags": []
          }
        }
      ]
    },
    {
      "cell_type": "code",
      "metadata": {
        "id": "XeNOLBzDJT7E",
        "colab_type": "code",
        "colab": {
          "base_uri": "https://localhost:8080/",
          "height": 320
        },
        "outputId": "f603ed99-1bc6-48a4-9253-7108a4c46ff6"
      },
      "source": [
        "data['gender'].value_counts().plot(kind='pie', figsize=(15,5))"
      ],
      "execution_count": 15,
      "outputs": [
        {
          "output_type": "execute_result",
          "data": {
            "text/plain": [
              "<matplotlib.axes._subplots.AxesSubplot at 0x7f1a006bd748>"
            ]
          },
          "metadata": {
            "tags": []
          },
          "execution_count": 15
        },
        {
          "output_type": "display_data",
          "data": {
            "image/png": "[encoded data removed]",
            "text/plain": [
              "<Figure size 1080x360 with 1 Axes>"
            ]
          },
          "metadata": {
            "tags": []
          }
        }
      ]
    },
    {
      "cell_type": "code",
      "metadata": {
        "id": "_tRqktbALHS3",
        "colab_type": "code",
        "colab": {
          "base_uri": "https://localhost:8080/",
          "height": 337
        },
        "outputId": "b3acd2aa-950e-4caf-ae93-c70c029e2e9b"
      },
      "source": [
        "#Life expectancy\n",
        "data['currentstatus'].value_counts().plot(kind='barh', figsize=(15,5))\n"
      ],
      "execution_count": 16,
      "outputs": [
        {
          "output_type": "execute_result",
          "data": {
            "text/plain": [
              "<matplotlib.axes._subplots.AxesSubplot at 0x7f1a00684898>"
            ]
          },
          "metadata": {
            "tags": []
          },
          "execution_count": 16
        },
        {
          "output_type": "display_data",
          "data": {
            "image/png": "[encoded data removed]",
            "text/plain": [
              "<Figure size 1080x360 with 1 Axes>"
            ]
          },
          "metadata": {
            "tags": []
          }
        }
      ]
    },
    {
      "cell_type": "code",
      "metadata": {
        "id": "GDgQUeZIL_jP",
        "colab_type": "code",
        "colab": {
          "base_uri": "https://localhost:8080/",
          "height": 85
        },
        "outputId": "55e1140e-fdf9-49fc-9ba5-f57b3d26fc12"
      },
      "source": [
        "#Life expectancy in Male\n",
        "data[data['gender']=='M']['currentstatus'].value_counts()\n"
      ],
      "execution_count": 17,
      "outputs": [
        {
          "output_type": "execute_result",
          "data": {
            "text/plain": [
              "Hospitalized    823\n",
              "Recovered        37\n",
              "Deceased         16\n",
              "Name: currentstatus, dtype: int64"
            ]
          },
          "metadata": {
            "tags": []
          },
          "execution_count": 17
        }
      ]
    },
    {
      "cell_type": "code",
      "metadata": {
        "id": "PqYy_l_sMO9c",
        "colab_type": "code",
        "colab": {
          "base_uri": "https://localhost:8080/",
          "height": 85
        },
        "outputId": "df16a4c7-b7af-4600-8ca5-52c47c87d514"
      },
      "source": [
        "#Life expectancy in Female\n",
        "data[data['gender']=='F']['currentstatus'].value_counts()\n"
      ],
      "execution_count": 18,
      "outputs": [
        {
          "output_type": "execute_result",
          "data": {
            "text/plain": [
              "Hospitalized    237\n",
              "Recovered        19\n",
              "Deceased          7\n",
              "Name: currentstatus, dtype: int64"
            ]
          },
          "metadata": {
            "tags": []
          },
          "execution_count": 18
        }
      ]
    },
    {
      "cell_type": "code",
      "metadata": {
        "id": "b66CTjWCU3pj",
        "colab_type": "code",
        "colab": {
          "base_uri": "https://localhost:8080/",
          "height": 459
        },
        "outputId": "e55c264f-2691-4de9-ceb2-c33a4f67de60"
      },
      "source": [
        "#Top ten affected District\n",
        "data['detecteddistrict'].value_counts().head(25)"
      ],
      "execution_count": 19,
      "outputs": [
        {
          "output_type": "execute_result",
          "data": {
            "text/plain": [
              "                       777\n",
              "Mumbai                 313\n",
              "Kasaragod              142\n",
              "Indore                 128\n",
              "Pune                    93\n",
              "Chennai                 91\n",
              "Gautam Buddha Nagar     58\n",
              "Jaipur                  56\n",
              "Bengaluru               53\n",
              "Ahmadabad               53\n",
              "Thane                   52\n",
              "Kannur                  50\n",
              "Agra                    44\n",
              "Dindigul                43\n",
              "Tirunelveli             37\n",
              "Hyderabad               36\n",
              "S.P.S. Nellore          34\n",
              "Coimbatore              33\n",
              "Gurugram                31\n",
              "Guntur                  30\n",
              "Krishna                 28\n",
              "Mysuru                  28\n",
              "Erode                   27\n",
              "Evacuees                27\n",
              "Bhilwara                27\n",
              "Name: detecteddistrict, dtype: int64"
            ]
          },
          "metadata": {
            "tags": []
          },
          "execution_count": 19
        }
      ]
    },
    {
      "cell_type": "code",
      "metadata": {
        "id": "GSUociIiWFpf",
        "colab_type": "code",
        "colab": {
          "base_uri": "https://localhost:8080/",
          "height": 204
        },
        "outputId": "61b546e2-7d26-40d3-91a2-d7f5a0c843eb"
      },
      "source": [
        "#top reasons behind affection in India\n",
        "data['notes'].value_counts().head(10)"
      ],
      "execution_count": 20,
      "outputs": [
        {
          "output_type": "execute_result",
          "data": {
            "text/plain": [
              "                                                     988\n",
              "Details awaited                                      743\n",
              "Attended Delhi Religious Conference                  479\n",
              "Details Awaited                                      221\n",
              "Travelled from Dubai                                  73\n",
              "Local Transmission                                    39\n",
              "Travelled from UK                                     26\n",
              "Travelled from Dubai, UAE                             25\n",
              "attended religious event Tablighi Jamaat in delhi     24\n",
              "Contact transmission                                  22\n",
              "Name: notes, dtype: int64"
            ]
          },
          "metadata": {
            "tags": []
          },
          "execution_count": 20
        }
      ]
    },
    {
      "cell_type": "code",
      "metadata": {
        "id": "c0ni2umvWgF6",
        "colab_type": "code",
        "colab": {
          "base_uri": "https://localhost:8080/",
          "height": 102
        },
        "outputId": "e91bb4ce-c42d-4fec-d2ca-8af3f8398376"
      },
      "source": [
        "data['typeoftransmission'].value_counts().head(10)"
      ],
      "execution_count": 21,
      "outputs": [
        {
          "output_type": "execute_result",
          "data": {
            "text/plain": [
              "            1889\n",
              "TBD          807\n",
              "Imported     542\n",
              "Local        476\n",
              "Name: typeoftransmission, dtype: int64"
            ]
          },
          "metadata": {
            "tags": []
          },
          "execution_count": 21
        }
      ]
    },
    {
      "cell_type": "code",
      "metadata": {
        "id": "zZ3Ijf2HXSS0",
        "colab_type": "code",
        "colab": {
          "base_uri": "https://localhost:8080/",
          "height": 507
        },
        "outputId": "1e485808-be18-4dc3-80cc-ee73c4b44609"
      },
      "source": [
        "#Top reasons behind corona afefction in Chennai\n",
        "print(data[data['detecteddistrict']=='Chennai']['notes'].value_counts().head(10))\n",
        "data[data['detecteddistrict']=='Chennai']['notes'].value_counts().head(10).plot(kind='pie', figsize=(15,5))"
      ],
      "execution_count": 22,
      "outputs": [
        {
          "output_type": "stream",
          "text": [
            "Attended Delhi Religious Conference                                         58\n",
            "Details Awaited                                                              4\n",
            "Family contact of TN-P42                                                     4\n",
            "Contact of Positive Patient                                                  2\n",
            "No Travel History                                                            2\n",
            "Travelled from London via Bangaloe then to Chennai by Car on 14th March      1\n",
            "Grandmother of TN-P28                                                        1\n",
            "Travelled from London via Bengaluru                                          1\n",
            "No travel history                                                            1\n",
            "Travelled from California via Singapore to Chennai Airport on 20.03.2020     1\n",
            "Name: notes, dtype: int64\n"
          ],
          "name": "stdout"
        },
        {
          "output_type": "execute_result",
          "data": {
            "text/plain": [
              "<matplotlib.axes._subplots.AxesSubplot at 0x7f1a00649d30>"
            ]
          },
          "metadata": {
            "tags": []
          },
          "execution_count": 22
        },
        {
          "output_type": "display_data",
          "data": {
            "image/png": "[encoded data removed]",
            "text/plain": [
              "<Figure size 1080x360 with 1 Axes>"
            ]
          },
          "metadata": {
            "tags": []
          }
        }
      ]
    },
    {
      "cell_type": "code",
      "metadata": {
        "id": "7e29J0W1XjH9",
        "colab_type": "code",
        "colab": {
          "base_uri": "https://localhost:8080/",
          "height": 507
        },
        "outputId": "dbcc5575-e79e-43c2-bb4d-8d699bf270f0"
      },
      "source": [
        "#Top reasons behind corona afefction in TamilNadu\n",
        "print(data[data['statecode']=='TN']['notes'].value_counts().head(10))\n",
        "data[data['statecode']=='TN']['notes'].value_counts().head(10).plot(kind='pie', figsize=(15,5))"
      ],
      "execution_count": 23,
      "outputs": [
        {
          "output_type": "stream",
          "text": [
            "Attended Delhi Religious Conference                              395\n",
            "Travelled from Delhi and Contact history with TN-P5 and TN-P6     10\n",
            "Travelled from Delhi                                              10\n",
            "Contact of Positive Patient                                        5\n",
            "Family contact of TN-P42                                           4\n",
            "Indonesian Tourist                                                 4\n",
            "Details Awaited                                                    4\n",
            "                                                                   3\n",
            "Contact of TN-P43                                                  3\n",
            "Contact with Thai Nationals                                        2\n",
            "Name: notes, dtype: int64\n"
          ],
          "name": "stdout"
        },
        {
          "output_type": "execute_result",
          "data": {
            "text/plain": [
              "<matplotlib.axes._subplots.AxesSubplot at 0x7f1a005626d8>"
            ]
          },
          "metadata": {
            "tags": []
          },
          "execution_count": 23
        },
        {
          "output_type": "display_data",
          "data": {
            "image/png": "[encoded data removed]",
            "text/plain": [
              "<Figure size 1080x360 with 1 Axes>"
            ]
          },
          "metadata": {
            "tags": []
          }
        }
      ]
    },
    {
      "cell_type": "code",
      "metadata": {
        "id": "lh-WX_I9dBbj",
        "colab_type": "code",
        "colab": {}
      },
      "source": [
        "data['time_taken_to_change_status'] = data['statuschangedate'] - data['dateannounced']"
      ],
      "execution_count": 0,
      "outputs": []
    },
    {
      "cell_type": "code",
      "metadata": {
        "id": "vs8Ea5vYZSDB",
        "colab_type": "code",
        "colab": {
          "base_uri": "https://localhost:8080/",
          "height": 51
        },
        "outputId": "69bf2d59-0f1e-4282-e198-c7af140f10a9"
      },
      "source": [
        "#Average time taken by to recover\n",
        "time_taken_to_recover = data[(data['currentstatus'] == 'Recovered') & (data['time_taken_to_change_status'] != '0 days')]['time_taken_to_change_status']\n",
        "print(\"Average time taken to recover {}\".format(str(time_taken_to_recover.mode())))"
      ],
      "execution_count": 25,
      "outputs": [
        {
          "output_type": "stream",
          "text": [
            "Average time taken to recover 0   25 days\n",
            "dtype: timedelta64[ns]\n"
          ],
          "name": "stdout"
        }
      ]
    },
    {
      "cell_type": "code",
      "metadata": {
        "id": "HLuZ1gG6b8Hu",
        "colab_type": "code",
        "colab": {
          "base_uri": "https://localhost:8080/",
          "height": 51
        },
        "outputId": "055d69bd-435d-43cf-a545-17edc641fc3e"
      },
      "source": [
        "#Average time taken by to get deceased\n",
        "time_taken_to_decease = data[(data['currentstatus'] == 'Deceased') & (data['time_taken_to_change_status'] != '0 days')]['time_taken_to_change_status']\n",
        "print(\"Average time taken to get deceased {}\".format(str(time_taken_to_decease.mean())))\n",
        "print(\"Maximum time taken in case of deceased {}\".format(str(time_taken_to_decease.max())))"
      ],
      "execution_count": 26,
      "outputs": [
        {
          "output_type": "stream",
          "text": [
            "Average time taken to get deceased 2 days 03:00:00\n",
            "Maximum time taken in case of deceased 6 days 00:00:00\n"
          ],
          "name": "stdout"
        }
      ]
    },
    {
      "cell_type": "code",
      "metadata": {
        "id": "iIKLyLREgQ7J",
        "colab_type": "code",
        "colab": {}
      },
      "source": [
        "from datetime import date\n",
        "data['patient_duration'] = date.today() - data['dateannounced']"
      ],
      "execution_count": 0,
      "outputs": []
    },
    {
      "cell_type": "code",
      "metadata": {
        "id": "Xt7OLdROiIQG",
        "colab_type": "code",
        "colab": {
          "base_uri": "https://localhost:8080/",
          "height": 561
        },
        "outputId": "364339ff-9e31-413b-96f7-30a4338e57fe"
      },
      "source": [
        "#Hospitalized since\n",
        "data[data['currentstatus'] == 'Hospitalized']['patient_duration'].value_counts()"
      ],
      "execution_count": 28,
      "outputs": [
        {
          "output_type": "execute_result",
          "data": {
            "text/plain": [
              "2 days     559\n",
              "3 days     486\n",
              "1 days     475\n",
              "4 days     424\n",
              "5 days     287\n",
              "6 days     207\n",
              "9 days     152\n",
              "8 days     141\n",
              "0 days     137\n",
              "7 days     109\n",
              "13 days     88\n",
              "11 days     84\n",
              "15 days     69\n",
              "12 days     69\n",
              "10 days     66\n",
              "14 days     65\n",
              "16 days     56\n",
              "18 days     24\n",
              "17 days     22\n",
              "22 days     16\n",
              "19 days     14\n",
              "20 days     12\n",
              "25 days      7\n",
              "23 days      6\n",
              "32 days      5\n",
              "24 days      5\n",
              "27 days      4\n",
              "26 days      4\n",
              "21 days      3\n",
              "29 days      2\n",
              "31 days      1\n",
              "Name: patient_duration, dtype: int64"
            ]
          },
          "metadata": {
            "tags": []
          },
          "execution_count": 28
        }
      ]
    },
    {
      "cell_type": "code",
      "metadata": {
        "id": "JtOb761WkxVi",
        "colab_type": "code",
        "colab": {
          "base_uri": "https://localhost:8080/",
          "height": 952
        },
        "outputId": "3afc40da-5050-47de-ca27-9c241e3031d7"
      },
      "source": [
        "#Top reasons behind corona afefction in top affected cities\n",
        "for city in [\"Mumbai\", \"Kasaragod\", \"Jaipur\", \"Indore\", \"Coimbatore\", \"Kannur\", \"Bengaluru\"]:\n",
        "  print(\"\\n City name: \",city)\n",
        "  print(data[data['detecteddistrict']==city]['notes'].value_counts().head(5))"
      ],
      "execution_count": 29,
      "outputs": [
        {
          "output_type": "stream",
          "text": [
            "\n",
            " City name:  Mumbai\n",
            "                                                     154\n",
            "Details awaited                                       56\n",
            "Details Awaited                                       48\n",
            "Private hospital case in Mumbai metropolitan area     18\n",
            "Travel history, details awaited                        5\n",
            "Name: notes, dtype: int64\n",
            "\n",
            " City name:  Kasaragod\n",
            "Travelled from Dubai         44\n",
            "Travelled from Dubai, UAE    19\n",
            "Contact transmission         16\n",
            "                             13\n",
            "Details awaited              12\n",
            "Name: notes, dtype: int64\n",
            "\n",
            " City name:  Jaipur\n",
            "Contacts of first positive in Ramganj                                                                      13\n",
            "Family member of Patient, ID Unknown                                                                        8\n",
            "Contacts of a person who had tested positive earlier, this person has infected 17 of his close contacts     7\n",
            "                                                                                                            7\n",
            "From Maharashtra                                                                                            6\n",
            "Name: notes, dtype: int64\n",
            "\n",
            " City name:  Indore\n",
            "Details awaited                                                            80\n",
            "Details Awaited                                                            25\n",
            "                                                                           15\n",
            "contacts of earlier positive cases of #COVID19 & have no travel history     4\n",
            "Details awaited, (family)                                                   3\n",
            "Name: notes, dtype: int64\n",
            "\n",
            " City name:  Coimbatore\n",
            "Attended Delhi Religious Conference                                 28\n",
            "Contact of TN-P43                                                    3\n",
            "Travelled from Spain, Delhi, Bengaluru, Coimbatore on 15-03-2020     1\n",
            "Contact of TN-P26                                                    1\n",
            "Name: notes, dtype: int64\n",
            "\n",
            " City name:  Kannur\n",
            "Details awaited                                                               11\n",
            "Travelled from Dubai, UAE                                                      5\n",
            "Travelled from Dubai                                                           4\n",
            "Travelled from Dubai to Bangalore (Emirates EK 564) and from there by Road     3\n",
            "                                                                               3\n",
            "Name: notes, dtype: int64\n",
            "\n",
            " City name:  Bengaluru\n",
            "Travelled from Dubai                    3\n",
            "Travelled from Germany                  2\n",
            "Contact (Domestic Worker) of KA-P25     2\n",
            "Travelled from London                   2\n",
            "Daughter of P297, KA-P17                2\n",
            "Name: notes, dtype: int64\n"
          ],
          "name": "stdout"
        }
      ]
    },
    {
      "cell_type": "markdown",
      "metadata": {
        "id": "-inPBCPV267j",
        "colab_type": "text"
      },
      "source": [
        "Conclusion: Metro cities are badly affected by Corona virus.\n",
        "Kasargod is in worst condition even it is not metro city.\n",
        "The main reason behind spread of Corona virus is Delhi religious conference and persons travelled from UK and Dubai. Average time taken to recover of patients is around 25 days. If patients is alive more than 5 days, then chances of recovery are high."
      ]
    }
  ]
}